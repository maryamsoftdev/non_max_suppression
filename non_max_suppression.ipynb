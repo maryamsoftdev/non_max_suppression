{
  "nbformat": 4,
  "nbformat_minor": 0,
  "metadata": {
    "colab": {
      "provenance": []
    },
    "kernelspec": {
      "name": "python3",
      "display_name": "Python 3"
    },
    "language_info": {
      "name": "python"
    }
  },
  "cells": [
    {
      "cell_type": "code",
      "execution_count": 1,
      "metadata": {
        "colab": {
          "base_uri": "https://localhost:8080/"
        },
        "id": "umXq7F61zsLP",
        "outputId": "fb1a870d-b6a8-43aa-b2bf-cc28a998d8f8"
      },
      "outputs": [
        {
          "output_type": "stream",
          "name": "stdout",
          "text": [
            "Kept boxes: [[100 100 210 210]\n",
            " [200 200 310 310]]\n"
          ]
        }
      ],
      "source": [
        "import numpy as np\n",
        "\n",
        "def iou(box1, box2):\n",
        "    # Compute the intersection over union of two bounding boxes\n",
        "    x1, y1, x2, y2 = box1\n",
        "    x1_, y1_, x2_, y2_ = box2\n",
        "\n",
        "    xi1 = max(x1, x1_)\n",
        "    yi1 = max(y1, y1_)\n",
        "    xi2 = min(x2, x2_)\n",
        "    yi2 = min(y2, y2_)\n",
        "\n",
        "    inter_area = max(0, xi2 - xi1 + 1) * max(0, yi2 - yi1 + 1)\n",
        "\n",
        "    box1_area = (x2 - x1 + 1) * (y2 - y1 + 1)\n",
        "    box2_area = (x2_ - x1_ + 1) * (y2_ - y1_ + 1)\n",
        "\n",
        "    union_area = box1_area + box2_area - inter_area\n",
        "\n",
        "    return inter_area / union_area\n",
        "\n",
        "def non_max_suppression(boxes, scores, threshold=0.5):\n",
        "    indices = np.argsort(scores)[::-1]\n",
        "    keep = []\n",
        "\n",
        "    while indices.size > 0:\n",
        "        i = indices[0]\n",
        "        keep.append(i)\n",
        "        rest_indices = indices[1:]\n",
        "\n",
        "        suppressed_indices = []\n",
        "        for j in rest_indices:\n",
        "            if iou(boxes[i], boxes[j]) > threshold:\n",
        "                suppressed_indices.append(j)\n",
        "\n",
        "        indices = np.delete(indices, np.where(np.isin(indices, suppressed_indices)))\n",
        "        indices = indices[1:]\n",
        "\n",
        "    return keep\n",
        "\n",
        "# Example usage\n",
        "boxes = np.array([[100, 100, 210, 210], [105, 105, 215, 215], [200, 200, 310, 310]])\n",
        "scores = np.array([0.9, 0.85, 0.75])\n",
        "\n",
        "kept_indices = non_max_suppression(boxes, scores, threshold=0.5)\n",
        "kept_boxes = boxes[kept_indices]\n",
        "\n",
        "print(\"Kept boxes:\", kept_boxes)\n"
      ]
    }
  ]
}